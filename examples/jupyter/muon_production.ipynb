{
 "cells": [
  {
   "cell_type": "markdown",
   "id": "c545593b",
   "metadata": {},
   "source": [
    "# Numeric evaluation of a 1-loop contribution to muon production:"
   ]
  },
  {
   "cell_type": "markdown",
   "id": "70518c23",
   "metadata": {},
   "source": [
    "$$ \\huge e^+ e^- \\rightarrow \\mu^+ \\mu^- $$"
   ]
  },
  {
   "cell_type": "markdown",
   "id": "e81befb0",
   "metadata": {},
   "source": [
    "Scattering amplitude computations can be divided into three main steps:\n",
    "\n",
    "* **Generation**: Writing the amplitude as a sum of Feynman diagrams and applying Feynman rules\n",
    "* **Reduction**: Reducing the amplitude to a linear combination of master integrals.\n",
    "* **Evaluation**: Evaluating the master integrals.\n",
    "\n",
    "This notebook demonstrates how the evaluation step is done numerically in *pySecDec*, for a 1-loop diagram contributing to $e^+ e^- \\rightarrow \\mu^+ \\mu^-$. The generation of Feynman diagrams, the interference with the Born amplitude as well as the Passarino-Veltman (PaVe) reduction to scalar master integrals, was done with *FeynCalc* [1,2,3]. "
   ]
  },
  {
   "cell_type": "markdown",
   "id": "b1fb0eb1",
   "metadata": {},
   "source": [
    "### Import pySecDec modules"
   ]
  },
  {
   "cell_type": "code",
   "execution_count": null,
   "id": "1a9cbddf",
   "metadata": {},
   "outputs": [],
   "source": [
    "import pySecDec as psd\n",
    "from pySecDec import LoopPackage\n",
    "from pySecDec import sum_package"
   ]
  },
  {
   "cell_type": "markdown",
   "id": "927dafad",
   "metadata": {},
   "source": [
    "### Define the reduction coefficients\n",
    "\n",
    "The reduction coefficients are copied manually from FeynCalc and stored in a list. Coefficient *j* in this list is associated to integral *j* in the list of master integrals. \n",
    "\n",
    "For this process at 1-loop there is a diagram containing a closed lepton loop:\n",
    "\n",
    "<img src=\"fermionloop.jpg\" \n",
    "     align=\"center\"\n",
    "     width=\"250\" />\n",
    "\n",
    "This means that some of the coefficients are proportional to the number of leptons $N_f$, and these coefficients are taken out and stored in a separate list. The input and output of pySecDec will therefore be two sums of integrals. The amplitude is in this way split up into two gauge invariant building blocks, and the part proportional to $N_f$ can be considered separately. For this example it turns out to only be one master integral that has a contribution proportional to $N_f$.\n",
    "\n",
    "Finally, an integral prefactor which relates FeynCalc's and pySecDec's conventions is defined. A common prefactor of $2\\pi \\cdot e^6$ has been removed from the coefficients and will be added back to the results after integration."
   ]
  },
  {
   "cell_type": "code",
   "execution_count": null,
   "id": "c7e58be1",
   "metadata": {},
   "outputs": [],
   "source": [
    "integral_coeffs = ['8*((4 - 2*eps)^2*s^2 - 3*(4 - 2*eps)*t^2 - 10*(4 - 2*eps)*t*u - 3*(4 - 2*eps)*u^2 + 2*t^2 + 8*t*u + 2*u^2)/((3 - 2*eps)*s^2)',\n",
    "    '2*((4 - 2*eps)^3*s^2 - 11*(4 - 2*eps)^2*t^2 + 26*(4 - 2*eps)*t^2 - 24*(4 - 2*eps)^2*t*u + 78*(4 - 2*eps)*t*u - 9*(4 - 2*eps)^2*u^2 + 20*(4 - 2*eps)*u^2 - 16*t^2 - 56*t*u - 12*u^2)/((3 - 2*eps)*s^2)',\n",
    "    '((4 - 2*eps)*t + 3*(4 - 2*eps)*u - 4*t - 8*u)/s',\n",
    "    '-(3*(4 - 2*eps)*t + (4 - 2*eps)*u - 8*t - 4*u)/s',\n",
    "    '-2*((4 - 2*eps)^2*s^2 - 5*(4 - 2*eps)*s^2 + 4*(4 - 2*eps)*u^2 + 4*t^2 + 8*t*u)/((3 - 2*eps)*s)',\n",
    "    '-t*((4 - 2*eps)^2*s + 9*(4 - 2*eps)*t + (4 - 2*eps)*u - 8*t)/(2*(3 - 2*eps)*s)',\n",
    "    'u*((4 - 2*eps)^2*s + (4 - 2*eps)*t + 9*(4 - 2*eps)*u - 8*u)/(2*(3 - 2*eps)*s)',\n",
    "    '-2*((4 - 2*eps)^2*s^2 - 5*(4 - 2*eps)*s^2 + 4*(4 - 2*eps)*u^2 + 4*t^2 + 8*t*u)/((3 - 2*eps)*s)',\n",
    "    '-t*((4 - 2*eps)^2*s + 9*(4 - 2*eps)*t + (4 - 2*eps)*u - 8*t)/(2*(3 - 2*eps)*s)',\n",
    "    'u*((4 - 2*eps)^2*s + (4 - 2*eps)*t + 9*(4 - 2*eps)*u - 8*u)/(2*(3 - 2*eps)*s)',\n",
    "    '-t*(3*(4 - 2*eps)^2*s^2 - 3*(4 - 2*eps)*t^2 - 30*(4 - 2*eps)*t*u - 11*(4 - 2*eps)*u^2 + 24*t*u + 8*u^2)/(2*(3 - 2*eps)*s)',\n",
    "    'u*(3*(4 - 2*eps)^2*s^2 - 11*(4 - 2*eps)*t^2 - 30*(4 - 2*eps)*t*u - 3*(4 - 2*eps)*u^2 + 8*t^2 + 24*t*u)/(2*(3 - 2*eps)*s)']\n",
    "\n",
    "integral_coeffs_N = ['0', '2*(-(4 - 2*eps)^2*s^2 + 4*(4 - 2*eps)*t^2 + 12*(4 - 2*eps)*t*u + 4*(4 - 2*eps)*u^2 - 4*t^2 - 16*t*u - 4*u^2)/((3 - 2*eps)*s^2)', '0', '0', '0', '0', '0', '0', '0', '0' ,'0' ,'0']\n",
    "\n",
    "additional_prefactor = 'gamma(1-2*eps)/(gamma(1-eps)*gamma(1-eps)*gamma(1 + eps))'"
   ]
  },
  {
   "cell_type": "markdown",
   "id": "26e04ae7",
   "metadata": {},
   "source": [
    "#### Formating: Mathematica --> Python\n",
    "Since *FeynCalc* produces Mathematica expressions, the algebraic expressions need to be slightly modified to fit the Python syntax."
   ]
  },
  {
   "cell_type": "code",
   "execution_count": null,
   "id": "dc12ebab",
   "metadata": {},
   "outputs": [],
   "source": [
    "coeffs = []\n",
    "for integral_coeff in integral_coeffs:\n",
    "    formatted_coeff = integral_coeff.replace('^', '**')\n",
    "    formatted_coeff = formatted_coeff.replace(' ', '')\n",
    "    coeffs.append(formatted_coeff)\n",
    "    \n",
    "N_coeffs = []\n",
    "for integral_coeff in integral_coeffs_N:\n",
    "    formatted_coeff = integral_coeff.replace('^', '**')\n",
    "    formatted_coeff = formatted_coeff.replace(' ', '')\n",
    "    N_coeffs.append(formatted_coeff)\n",
    "\n",
    "#Multiple sums can be stored as lists of same length coefficient lists\n",
    "coefficients = [coeffs, N_coeffs]"
   ]
  },
  {
   "cell_type": "markdown",
   "id": "12a394d6",
   "metadata": {},
   "source": [
    "### Defining scalar PaVe integrals within the *pySecDec* framework\n",
    "\n",
    "Functions to generate the massless scalar PaVe integrals $B_0(p^2)$, $C_0(p_1^2, p_2^2, p_{12}^2)$ and $D_0(p_1^2, p_2^2, p_3^2, p_4^2, p_{12}^2, p_{23}^2)$ as *pySecDec LoopPackages* are defined. The corresponding Feynman diagrams are used to create *pySecDec loop integrals* with the function *LoopIntegralFromGraph*. The functions return instances of *LoopPackage*, which prepares the *loop integrals* for sector decomposition. \n",
    "\n",
    "*LoopPackage* requires a few parameters. The *real parameters* are the kinematics of the process, in this case only squares of external momenta as masses are not taken into account, *decomposition_method* is the type of sector decomposition and *requested_orders* is the highest order in the expansion of the regularization parameter. The *additional_prefactor* attaches to each *loop integral* the prefactor that was defined earlier. "
   ]
  },
  {
   "cell_type": "code",
   "execution_count": null,
   "id": "27335509",
   "metadata": {},
   "outputs": [],
   "source": [
    "def B0(p_sq, name):\n",
    "        li = psd.LoopIntegralFromGraph(\n",
    "                internal_lines = [[0,[1,2]],[0,[2,1]]],\n",
    "                external_lines = [['p',1],['p',2]],\n",
    "                replacement_rules = [('p*p', p_sq)])\n",
    "        real_parameters = []\n",
    "        if not p_sq == 0: #Pass the momentum as a symbolic parameter if it is not 0\n",
    "            real_parameters.append(p_sq)\n",
    "        return LoopPackage(name, loop_integral = li, real_parameters = real_parameters, \n",
    "                            decomposition_method = 'geometric', requested_orders = [0], additional_prefactor = additional_prefactor)\n",
    "\n",
    "def C0(p1_sq, p2_sq, p12_sq, name):\n",
    "    li = psd.LoopIntegralFromGraph(\n",
    "            internal_lines = [[0,[1,2]],[0,[2,3]],[0,[3,1]]],\n",
    "            external_lines = [['p1',1],['p2',2],['p3',3]],\n",
    "            replacement_rules = [\n",
    "                                ('p1*p1', p1_sq),\n",
    "                                ('p2*p2', p2_sq),\n",
    "                                ('p3*p3', p12_sq)\n",
    "                                ])\n",
    "    real_parameters = [p for p in [p1_sq, p2_sq, p12_sq] if p != 0] #Pass the momenta as symbolic parameters if they are not 0\n",
    "    return LoopPackage(name, loop_integral = li, real_parameters = real_parameters, \n",
    "                        decomposition_method = 'geometric', requested_orders = [0], additional_prefactor = additional_prefactor)\n",
    "\n",
    "def D0(p1_sq, p2_sq, p3_sq, p4_sq, p12_sq, p23_sq, name):\n",
    "    li = psd.LoopIntegralFromGraph(\n",
    "            internal_lines = [[0,[1,2]],[0,[2,3]],[0,[3,4]],[0,[4,1]]],\n",
    "            external_lines = [['p1',1],['p2',2],['p3',3], ['p4',4]],\n",
    "            replacement_rules = [\n",
    "                                ('p1*p1', p1_sq),\n",
    "                                ('p2*p2', p2_sq),\n",
    "                                ('p3*p3', p3_sq),\n",
    "                                ('p4*p4', p4_sq),\n",
    "                                ('p3*p2', str(p23_sq) + '/2' + '-' + str(p2_sq) + '/2' + '-' + str(p3_sq) + '/2'),\n",
    "                                ('p1*p2', str(p12_sq) + '/2' + '-' + str(p1_sq) + '/2' + '-' + str(p2_sq) + '/2'),\n",
    "                                ('p1*p4', str(p23_sq) + '/2' + '-' + str(p1_sq) + '/2' + '-' + str(p4_sq) + '/2'),\n",
    "                                ('p2*p4', '-' + str(p12_sq) + '/2' + '-' + str(p23_sq) + '/2' + '-' + str(p2_sq) + '/2' + '-' + str(p4_sq) + '/2'),\n",
    "                                ('p1*p3', '-' + str(p12_sq) + '/2' + '-' + str(p23_sq) + '/2' + '-' + str(p1_sq) + '/2' + '-' + str(p3_sq) + '/2'),\n",
    "                                ('p3*p4', str(p12_sq) + '/2' + '-' + str(p3_sq) + '/2' + '-' + str(p4_sq) + '/2')\n",
    "                                ])\n",
    "    real_parameters = [p for p in [p1_sq, p2_sq, p3_sq, p4_sq, p12_sq, p23_sq] if p != 0] #Pass the momenta as symbolic parameters if they are not 0                                     \n",
    "    return LoopPackage(name, loop_integral = li, real_parameters = real_parameters, \n",
    "                        decomposition_method = 'geometric', requested_orders = [0], additional_prefactor = additional_prefactor)"
   ]
  },
  {
   "cell_type": "markdown",
   "id": "9d84decb",
   "metadata": {},
   "source": [
    "#### Instantiating the LoopPackages\n",
    "The functions defined above are used to define the scalar integrals as *pySecDec LoopPackages*. They are ordered in a list in the same way as the coefficients were before.  "
   ]
  },
  {
   "cell_type": "code",
   "execution_count": null,
   "id": "8b071446",
   "metadata": {},
   "outputs": [],
   "source": [
    "B0_integrals = [B0(0, 'B00'), B0('s', 'B0s'), B0('t', 'B0t'), B0('u', 'B0u')]\n",
    "C0_integrals = [C0(0, 0, 's', 'C00s'), C0(0, 0, 't', 'C00t'), C0(0, 0, 'u', 'C00u'), C0(0, 's', 0, 'C0s0'), C0(0, 't', 0, 'C0t0'), C0(0, 'u', 0, 'C0u0')]\n",
    "D0_integrals = [D0(0,0,0,0, 's', 't', 'D0000st'), D0(0,0,0,0, 's', 'u', 'D0000su')]\n",
    "\n",
    "all_integrals = B0_integrals + C0_integrals + D0_integrals #integral[0] corresponds to coeffs[0] etc."
   ]
  },
  {
   "cell_type": "markdown",
   "id": "5c03e986",
   "metadata": {},
   "source": [
    "### Bringing everything together and generating the C++ integration code\n",
    "\n",
    "The function *sum_package* combines the scalar integrals with the corresponding coefficients and builds the C++ integration code, i.e. the amplitude is constructed. The real parameters are the kinematics of the process that are specified before integration. In this case they are the standard Mandelstam invariants as there are no masses taken into account.\n"
   ]
  },
  {
   "cell_type": "code",
   "execution_count": null,
   "id": "8ef5fc7a",
   "metadata": {
    "scrolled": true
   },
   "outputs": [],
   "source": [
    "import os\n",
    "if not os.path.exists('muon_production'):\n",
    "    sum_package(\n",
    "            'muon_production',\n",
    "            all_integrals,\n",
    "            coefficients = coefficients,\n",
    "            requested_orders = [0],\n",
    "            regulators = ['eps'],\n",
    "            real_parameters = ['s', 't', 'u']) \n",
    "    #Make sure that the list of real parameters contain every symbolic kinematic invariant defined in 'all_integrals'"
   ]
  },
  {
   "cell_type": "markdown",
   "id": "40a9d1d3",
   "metadata": {},
   "source": [
    "#### Build the C++ library\n",
    "Compile the C++ code and prepare the loop integrals for integration. This make routine will build the Quasi Monte Carlo (QMC) integrator *Disteval*. "
   ]
  },
  {
   "cell_type": "code",
   "execution_count": null,
   "id": "0ca1eeff",
   "metadata": {},
   "outputs": [],
   "source": [
    "%cd muon_production\n",
    "import os\n",
    "os.system('make disteval.done')\n",
    "%cd .."
   ]
  },
  {
   "cell_type": "markdown",
   "id": "365917b6",
   "metadata": {},
   "source": [
    "#### Import the pySecDec integral library, as well as sympy and numpy which are used to format the results"
   ]
  },
  {
   "cell_type": "code",
   "execution_count": null,
   "id": "e97a6318",
   "metadata": {},
   "outputs": [],
   "source": [
    "from pySecDec.integral_interface import DistevalLibrary\n",
    "import sympy as sp\n",
    "import numpy as np"
   ]
  },
  {
   "cell_type": "markdown",
   "id": "ec48b950",
   "metadata": {},
   "source": [
    "#### Load the built integral library"
   ]
  },
  {
   "cell_type": "code",
   "execution_count": null,
   "id": "f1cb9531",
   "metadata": {},
   "outputs": [],
   "source": [
    "amplitude = DistevalLibrary('muon_production/disteval/muon_production.json')"
   ]
  },
  {
   "cell_type": "markdown",
   "id": "9004f5da",
   "metadata": {},
   "source": [
    "### Perform the integration and retrieve the result\n",
    "\n",
    "The integration is performed for an arbitrary phase space point ``s = 3.0, t = -1.0, u = -2.0``. As mentioned before the results are split due to some coefficients depending on the number of leptons."
   ]
  },
  {
   "cell_type": "code",
   "execution_count": null,
   "id": "401addec",
   "metadata": {},
   "outputs": [],
   "source": [
    "str_result = amplitude(parameters={\"s\": 3.0, \"t\": -1.0, \"u\": -2.0}, verbose=True)\n",
    "\n",
    "result = sp.sympify(str_result)\n",
    "value = result[0].subs({\"plusminus\": 0})\n",
    "valueN =result[1].subs({\"plusminus\": 0})\n",
    "error = result[0].coeff(\"plusminus\")\n",
    "errorN = result[1].coeff(\"plusminus\")"
   ]
  },
  {
   "cell_type": "markdown",
   "id": "a3821779",
   "metadata": {},
   "source": [
    "#### Formating results\n",
    "Express results in terms of the QED fine structure constant $\\alpha$ and reinclude the factor of $2\\pi$ which had been removed from the coefficients earlier. In natural units the relation between the QED fine structure constant and the electric charge is $e^2=4\\pi\\alpha$. "
   ]
  },
  {
   "cell_type": "code",
   "execution_count": null,
   "id": "27c89eb0",
   "metadata": {
    "scrolled": true
   },
   "outputs": [],
   "source": [
    "value *= np.pi**5 * 4**3\n",
    "error *= np.pi**5 * 4**3 \n",
    "valueN *= np.pi**5 * 4**3\n",
    "errorN *= np.pi**5 * 4**3"
   ]
  },
  {
   "cell_type": "markdown",
   "id": "2f176c2e",
   "metadata": {},
   "source": [
    "#### Printing results\n",
    "Results are printed at three different orders of the regularization parameter. "
   ]
  },
  {
   "cell_type": "code",
   "execution_count": null,
   "id": "d55b17bb",
   "metadata": {},
   "outputs": [],
   "source": [
    "print('Numerical Result Proportional to alpha**3 (Nf is the number of leptons):')\n",
    "print('eps^-2:', value.coeff('eps',-2), '+/- (', error.coeff('eps',-2), ')', '\\n', '        + Nf*(', valueN.coeff('eps',-2), '+/- (', errorN.coeff('eps',-2), '))', '\\n')\n",
    "print('eps^-1:', value.coeff('eps',-1), '+/- (', error.coeff('eps',-1), ')', '\\n', '        + Nf*(', valueN.coeff('eps',-1), '+/- (', errorN.coeff('eps',-1), '))', '\\n')\n",
    "print('eps^0:', value.coeff('eps',0), '+/- (', error.coeff('eps',0), ')', '\\n', '       + Nf*(',valueN.coeff('eps',0), '+/- (', errorN.coeff('eps',0), '))')"
   ]
  },
  {
   "cell_type": "markdown",
   "id": "133b888b",
   "metadata": {},
   "source": [
    "# Phase space scan and plotting results\n",
    "By integrating for different phase space points, and maintaining the physical condition that $s+u+t=0$, we may plot a line in phase space. Since no renormalisation is done, we are restricted to plot the coefficients of the different powers of $\\varepsilon$. Here we settle for the real and imaginary parts of the coefficient to $\\varepsilon^0$. To only get numbers, $N_f = 3$ has been chosen."
   ]
  },
  {
   "cell_type": "code",
   "execution_count": null,
   "id": "6a718d87",
   "metadata": {},
   "outputs": [],
   "source": [
    "from matplotlib import pyplot as plt\n",
    "real_results = []\n",
    "complex_results = []\n",
    "kinematics = range(2,21)\n",
    "Nf = 3\n",
    "t = -1.0\n",
    "for s in kinematics: #let s be all integers from 2 to 20. \n",
    "    u = -s-t #Physical condition for the kinematics\n",
    "    \n",
    "    amplitude = DistevalLibrary('muon_production/disteval/muon_production.json') # load the library\n",
    "    str_result = amplitude(parameters={\"s\": s, \"t\": t, \"u\": u}, verbose=True) # integrate\n",
    "    \n",
    "    #Extract results\n",
    "    result = sp.sympify(str_result)\n",
    "    value = result[0].subs({\"plusminus\": 0})\n",
    "    valueN =result[1].subs({\"plusminus\": 0})\n",
    "    error = result[0].coeff(\"plusminus\")\n",
    "    errorN = result[1].coeff(\"plusminus\")\n",
    "\n",
    "    #Express results in terms of fine structure constant (and add back common pi factors of coefficients)\n",
    "    value *= np.pi**5 * 4**3\n",
    "    error *= np.pi**5 * 4**3 \n",
    "    valueN *= np.pi**5 * 4**3\n",
    "    errorN *= np.pi**5 * 4**3\n",
    "\n",
    "    real_result = sp.re(value.coeff('eps',0)) + Nf * sp.re(valueN.coeff('eps',0))\n",
    "    complex_result = sp.im(value.coeff('eps',0)) + Nf * sp.im(valueN.coeff('eps',0))\n",
    "    real_results.append(real_result)\n",
    "    complex_results.append(complex_result)"
   ]
  },
  {
   "cell_type": "code",
   "execution_count": null,
   "id": "962e40d4",
   "metadata": {},
   "outputs": [],
   "source": [
    "plt.figure()\n",
    "plt.title('Line in phase space; $s+t+u = 0$')\n",
    "plt.xlabel('Kinematic invariant: $s$')\n",
    "plt.plot(kinematics, real_results, 'bo-', label = 'Re(coeff to $\\epsilon^0$)')\n",
    "plt.plot(kinematics, complex_results, 'ro-', label = 'Im(coeff to $\\epsilon^0$)')\n",
    "plt.legend(loc='upper left')\n",
    "plt.grid(True)\n",
    "plt.savefig(\"muon_production_plot.pdf\", format='pdf', bbox_inches='tight')"
   ]
  },
  {
   "cell_type": "markdown",
   "id": "a3d91dee",
   "metadata": {},
   "source": [
    "### References\n",
    "[1] V. Shtabovenko, R. Mertig and F. Orellana, \"*FeynCalc 9.3: New features and improvements*\", arXiv:2001.04407   \n",
    "[2] V. Shtabovenko, R. Mertig and F. Orellana, \"*New Developments in FeynCalc 9.0\"*, Comput. Phys. Commun., 207, 432-444, 2016, arXiv:1601.01167  \n",
    "[3] R. Mertig, M. Böhm, and A. Denner, *\"Feyn Calc - Computer-algebraic calculation of Feynman amplitudes\"*, Comput. Phys. Commun., 64, 345-359, 1991"
   ]
  }
 ],
 "metadata": {
  "kernelspec": {
   "display_name": "Python 3 (ipykernel)",
   "language": "python",
   "name": "python3"
  },
  "language_info": {
   "codemirror_mode": {
    "name": "ipython",
    "version": 3
   },
   "file_extension": ".py",
   "mimetype": "text/x-python",
   "name": "python",
   "nbconvert_exporter": "python",
   "pygments_lexer": "ipython3",
   "version": "3.10.5"
  }
 },
 "nbformat": 4,
 "nbformat_minor": 5
}
